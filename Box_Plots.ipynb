{
 "cells": [
  {
   "cell_type": "markdown",
   "metadata": {
    "collapsed": true,
    "pycharm": {
     "name": "#%% md\n"
    }
   },
   "source": [
    "# Python Box Plots\n",
    "## Import Libraries\n",
    "Installation: `pip install seaborn` or `conda install seaborn`"
   ]
  },
  {
   "cell_type": "code",
   "execution_count": 2,
   "metadata": {
    "pycharm": {
     "name": "#%%\n"
    }
   },
   "outputs": [],
   "source": [
    "import seaborn as sns\n",
    "%matplotlib inline"
   ]
  },
  {
   "cell_type": "markdown",
   "metadata": {
    "pycharm": {
     "name": "#%% md\n"
    }
   },
   "source": [
    "## Import Dataset"
   ]
  },
  {
   "cell_type": "code",
   "execution_count": 3,
   "metadata": {
    "pycharm": {
     "name": "#%%\n"
    }
   },
   "outputs": [
    {
     "data": {
      "text/html": [
       "<div>\n",
       "<style scoped>\n",
       "    .dataframe tbody tr th:only-of-type {\n",
       "        vertical-align: middle;\n",
       "    }\n",
       "\n",
       "    .dataframe tbody tr th {\n",
       "        vertical-align: top;\n",
       "    }\n",
       "\n",
       "    .dataframe thead th {\n",
       "        text-align: right;\n",
       "    }\n",
       "</style>\n",
       "<table border=\"1\" class=\"dataframe\">\n",
       "  <thead>\n",
       "    <tr style=\"text-align: right;\">\n",
       "      <th></th>\n",
       "      <th>total_bill</th>\n",
       "      <th>tip</th>\n",
       "      <th>sex</th>\n",
       "      <th>smoker</th>\n",
       "      <th>day</th>\n",
       "      <th>time</th>\n",
       "      <th>size</th>\n",
       "    </tr>\n",
       "  </thead>\n",
       "  <tbody>\n",
       "    <tr>\n",
       "      <th>0</th>\n",
       "      <td>16.99</td>\n",
       "      <td>1.01</td>\n",
       "      <td>Female</td>\n",
       "      <td>No</td>\n",
       "      <td>Sun</td>\n",
       "      <td>Dinner</td>\n",
       "      <td>2</td>\n",
       "    </tr>\n",
       "    <tr>\n",
       "      <th>1</th>\n",
       "      <td>10.34</td>\n",
       "      <td>1.66</td>\n",
       "      <td>Male</td>\n",
       "      <td>No</td>\n",
       "      <td>Sun</td>\n",
       "      <td>Dinner</td>\n",
       "      <td>3</td>\n",
       "    </tr>\n",
       "    <tr>\n",
       "      <th>2</th>\n",
       "      <td>21.01</td>\n",
       "      <td>3.50</td>\n",
       "      <td>Male</td>\n",
       "      <td>No</td>\n",
       "      <td>Sun</td>\n",
       "      <td>Dinner</td>\n",
       "      <td>3</td>\n",
       "    </tr>\n",
       "    <tr>\n",
       "      <th>3</th>\n",
       "      <td>23.68</td>\n",
       "      <td>3.31</td>\n",
       "      <td>Male</td>\n",
       "      <td>No</td>\n",
       "      <td>Sun</td>\n",
       "      <td>Dinner</td>\n",
       "      <td>2</td>\n",
       "    </tr>\n",
       "    <tr>\n",
       "      <th>4</th>\n",
       "      <td>24.59</td>\n",
       "      <td>3.61</td>\n",
       "      <td>Female</td>\n",
       "      <td>No</td>\n",
       "      <td>Sun</td>\n",
       "      <td>Dinner</td>\n",
       "      <td>4</td>\n",
       "    </tr>\n",
       "  </tbody>\n",
       "</table>\n",
       "</div>"
      ],
      "text/plain": [
       "   total_bill   tip     sex smoker  day    time  size\n",
       "0       16.99  1.01  Female     No  Sun  Dinner     2\n",
       "1       10.34  1.66    Male     No  Sun  Dinner     3\n",
       "2       21.01  3.50    Male     No  Sun  Dinner     3\n",
       "3       23.68  3.31    Male     No  Sun  Dinner     2\n",
       "4       24.59  3.61  Female     No  Sun  Dinner     4"
      ]
     },
     "execution_count": 3,
     "metadata": {},
     "output_type": "execute_result"
    }
   ],
   "source": [
    "tips_econ = sns.load_dataset('tips')\n",
    "tips_econ.head()"
   ]
  },
  {
   "cell_type": "markdown",
   "metadata": {
    "pycharm": {
     "name": "#%% md\n"
    }
   },
   "source": [
    "## Boxplots"
   ]
  },
  {
   "cell_type": "code",
   "execution_count": 4,
   "metadata": {
    "pycharm": {
     "name": "#%%\n"
    }
   },
   "outputs": [
    {
     "data": {
      "text/plain": [
       "<AxesSubplot:xlabel='day', ylabel='total_bill'>"
      ]
     },
     "execution_count": 4,
     "metadata": {},
     "output_type": "execute_result"
    },
    {
     "data": {
      "image/png": "[encoded data removed]",
      "text/plain": [
       "<Figure size 432x288 with 1 Axes>"
      ]
     },
     "metadata": {
      "needs_background": "light"
     },
     "output_type": "display_data"
    }
   ],
   "source": [
    "sns.boxplot(x=\"day\", y=\"total_bill\", data=tips_econ,palette='rainbow')"
   ]
  },
  {
   "cell_type": "code",
   "execution_count": 5,
   "metadata": {
    "pycharm": {
     "name": "#%%\n"
    }
   },
   "outputs": [
    {
     "data": {
      "text/plain": [
       "<AxesSubplot:>"
      ]
     },
     "execution_count": 5,
     "metadata": {},
     "output_type": "execute_result"
    },
    {
     "data": {
      "image/png": "[encoded data removed]",
      "text/plain": [
       "<Figure size 432x288 with 1 Axes>"
      ]
     },
     "metadata": {
      "needs_background": "light"
     },
     "output_type": "display_data"
    }
   ],
   "source": [
    "sns.boxplot(data=tips_econ,palette='rainbow',orient='h')"
   ]
  },
  {
   "cell_type": "markdown",
   "metadata": {
    "pycharm": {
     "name": "#%% md\n"
    }
   },
   "source": [
    "## Boxplots - comparison of groups"
   ]
  },
  {
   "cell_type": "code",
   "execution_count": 6,
   "metadata": {
    "pycharm": {
     "name": "#%%\n"
    }
   },
   "outputs": [
    {
     "data": {
      "text/plain": [
       "<AxesSubplot:xlabel='day', ylabel='total_bill'>"
      ]
     },
     "execution_count": 6,
     "metadata": {},
     "output_type": "execute_result"
    },
    {
     "data": {
      "image/png": "[encoded data removed]",
      "text/plain": [
       "<Figure size 432x288 with 1 Axes>"
      ]
     },
     "metadata": {
      "needs_background": "light"
     },
     "output_type": "display_data"
    }
   ],
   "source": [
    "sns.boxplot(x=\"day\", y=\"total_bill\", hue=\"smoker\",data=tips_econ, palette=\"coolwarm\")"
   ]
  },
  {
   "cell_type": "markdown",
   "metadata": {},
   "source": [
    "## Box Plot Type II"
   ]
  },
  {
   "cell_type": "code",
   "execution_count": 7,
   "metadata": {},
   "outputs": [],
   "source": [
    "import numpy as np\n",
    "import pandas as pd\n",
    "%matplotlib inline"
   ]
  },
  {
   "cell_type": "code",
   "execution_count": 8,
   "metadata": {},
   "outputs": [],
   "source": [
    "data_frame_1 = pd.read_csv('df1', index_col=0)\n",
    "data_frame_2 = pd.read_csv('df2')"
   ]
  },
  {
   "cell_type": "code",
   "execution_count": 9,
   "metadata": {},
   "outputs": [
    {
     "data": {
      "text/plain": [
       "<AxesSubplot:>"
      ]
     },
     "execution_count": 9,
     "metadata": {},
     "output_type": "execute_result"
    },
    {
     "data": {
      "image/png": "[encoded data removed]",
      "text/plain": [
       "<Figure size 432x288 with 1 Axes>"
      ]
     },
     "metadata": {
      "needs_background": "light"
     },
     "output_type": "display_data"
    }
   ],
   "source": [
    "data_frame_2.plot.box()"
   ]
  },
  {
   "cell_type": "markdown",
   "metadata": {},
   "source": [
    "## Box Plot - Type III"
   ]
  },
  {
   "cell_type": "code",
   "execution_count": 10,
   "metadata": {},
   "outputs": [
    {
     "data": {
      "text/html": [
       "        <script type=\"text/javascript\">\n",
       "        window.PlotlyConfig = {MathJaxConfig: 'local'};\n",
       "        if (window.MathJax) {MathJax.Hub.Config({SVG: {font: \"STIX-Web\"}});}\n",
       "        if (typeof require !== 'undefined') {\n",
       "        require.undef(\"plotly\");\n",
       "        requirejs.config({\n",
       "            paths: {\n",
       "                'plotly': ['https://cdn.plot.ly/plotly-2.6.3.min']\n",
       "            }\n",
       "        });\n",
       "        require(['plotly'], function(Plotly) {\n",
       "            window._Plotly = Plotly;\n",
       "        });\n",
       "        }\n",
       "        </script>\n",
       "        "
      ]
     },
     "metadata": {},
     "output_type": "display_data"
    },
    {
     "data": {
      "text/html": [
       "        <script type=\"text/javascript\">\n",
       "        window.PlotlyConfig = {MathJaxConfig: 'local'};\n",
       "        if (window.MathJax) {MathJax.Hub.Config({SVG: {font: \"STIX-Web\"}});}\n",
       "        if (typeof require !== 'undefined') {\n",
       "        require.undef(\"plotly\");\n",
       "        requirejs.config({\n",
       "            paths: {\n",
       "                'plotly': ['https://cdn.plot.ly/plotly-2.6.3.min']\n",
       "            }\n",
       "        });\n",
       "        require(['plotly'], function(Plotly) {\n",
       "            window._Plotly = Plotly;\n",
       "        });\n",
       "        }\n",
       "        </script>\n",
       "        "
      ]
     },
     "metadata": {},
     "output_type": "display_data"
    }
   ],
   "source": [
    "import pandas as pd\n",
    "import numpy as np\n",
    "%matplotlib inline\n",
    "\n",
    "from plotly import __version__\n",
    "from plotly.offline import download_plotlyjs, init_notebook_mode, plot, iplot\n",
    "\n",
    "import cufflinks as cf\n",
    "init_notebook_mode(connected=True)\n",
    "\n",
    "\n",
    "cf.go_offline()\n",
    "data = pd.DataFrame(np.random.randn(100,4),columns='A B C D'.split())"
   ]
  },
  {
   "cell_type": "code",
   "execution_count": 11,
   "metadata": {},
   "outputs": [
    {
     "data": {
      "application/vnd.plotly.v1+json": {
       "config": {
        "linkText": "Export to plot.ly",
        "plotlyServerURL": "https://plot.ly",
        "showLink": true
       },
       "data": [
        {
         "boxpoints": false,
         "line": {
          "width": 1.3
         },
         "marker": {
          "color": "rgba(255, 153, 51, 1.0)"
         },
         "name": "A",
         "orientation": "v",
         "type": "box",
         "y": [
          -0.6893052561281315,
          -2.845872895424155,
          -0.9163681540821186,
          -0.2664103050414935,
          -0.9235275300876713,
          -1.0743051805052293,
          0.42687057478479057,
          1.1104792185401007,
          1.3646245694173584,
          -1.0238813388939503,
          1.895672769630182,
          1.0530753934758494,
          -0.046426311070615886,
          -0.33532787020544197,
          -0.5610494954001191,
          0.4318029474527573,
          0.25013109387394583,
          -1.146883582028132,
          0.4389058211914608,
          -1.137274523144371,
          1.1198268456530702,
          -0.8393566020124413,
          -0.16026252766799162,
          0.26122752466044236,
          1.004197450057196,
          0.35482904027472867,
          -0.6633958434655471,
          -1.1178581109424788,
          -2.05045943459775,
          -1.106147952065965,
          2.0960168353671507,
          0.07996763015948939,
          1.249610257685694,
          -0.08383444351696834,
          -0.14654391010572232,
          1.2648378226492598,
          -0.8266205324648777,
          1.989515576501666,
          -0.14588573288560383,
          -1.0616448138932837,
          0.07530234213858279,
          -0.4585366751511372,
          -0.9863013689134388,
          -0.021590579477356795,
          0.9889781526023628,
          -0.31640898478004204,
          -2.14677259470346,
          -1.957939648520007,
          0.05985766257029674,
          -0.36195689974885314,
          -0.236849555374275,
          -0.6077790409574457,
          1.2717831966333175,
          -0.2933190205356634,
          0.15435366978993742,
          -0.31904289677839653,
          -0.5875206701342491,
          0.9277886633174944,
          -0.855244316297103,
          -1.1703800688596033,
          -0.6961828141988337,
          -1.1897385744172395,
          0.7397797936004792,
          0.8906004551180754,
          1.2109951331092086,
          -0.38306990564306115,
          -0.1072388736304232,
          -0.4873164679316189,
          0.39821140555916523,
          -0.47945645115453034,
          0.523213054801759,
          0.12858269932775052,
          -1.7937689072840768,
          -0.940903415002036,
          -1.6570933374270327,
          1.2889827959639117,
          0.3614304439210471,
          0.20072060298305572,
          0.25331315375117697,
          1.0075480851304834,
          -1.771958662022935,
          0.9186582817477968,
          0.923208636586071,
          0.6906067861667525,
          1.2658331068004345,
          2.2248120210985447,
          1.229746154387575,
          -0.7711057840886162,
          -0.22892698345141266,
          0.4968263634785601,
          0.6922494070007152,
          0.40410117195772943,
          0.08621218244987461,
          -0.5210201116295988,
          -0.20269814327364616,
          -1.4983723050762452,
          0.1362860088662079,
          -1.530348026997477,
          0.8262943993604871,
          0.33767414186580647
         ]
        },
        {
         "boxpoints": false,
         "line": {
          "width": 1.3
         },
         "marker": {
          "color": "rgba(55, 128, 191, 1.0)"
         },
         "name": "B",
         "orientation": "v",
         "type": "box",
         "y": [
          -0.24979007921567917,
          -1.779768029097925,
          -0.6062144998486573,
          0.9779945488799582,
          0.3757230557902862,
          0.985161614399938,
          -0.6028042876140303,
          1.3883690703699636,
          -0.6145478354846858,
          -0.7385511297603041,
          -0.9127357649899023,
          0.9154197803986137,
          1.015141277598315,
          1.1055303857924383,
          -1.0656279020482946,
          0.9313128466249291,
          0.10121943482974187,
          0.06373945802347386,
          0.4364059064604701,
          0.5366977030019245,
          -0.23864333794856174,
          1.4498166840379065,
          -0.3431217595850986,
          0.06788794571715241,
          -0.5740311702124425,
          -0.3898350415202136,
          -1.7119745025704762,
          -0.3011023922329312,
          -1.4718273111859725,
          0.5126222640844335,
          -0.22257416696949736,
          -0.6314005321790371,
          1.7557240793305708,
          0.40685107040716606,
          -1.1504081674568416,
          -0.07433040391832275,
          -2.085449338396298,
          0.3278531873923647,
          0.5188669463239621,
          0.11547818460421502,
          0.6601924554364436,
          -0.20137214502169068,
          -1.2545913726498819,
          0.8716252349085465,
          -0.8664251177538538,
          2.084267516409973,
          0.12399374215075959,
          0.870143675935871,
          1.7709576444833397,
          2.7962380471649797,
          0.40374287223409155,
          -0.525883416684735,
          0.17417025125171276,
          -0.8107106339984463,
          -0.4802973836291754,
          -1.6228851254206935,
          -1.07337409895552,
          0.2580412296513383,
          0.516644824870803,
          0.2443520219395664,
          1.2814411679419644,
          -0.5914303998986155,
          0.783287456660842,
          0.8991699985054249,
          2.2627968755534607,
          -0.19970541772160366,
          -0.8457559168628592,
          -0.9491095889306285,
          -0.7870768730340548,
          0.9554556570912205,
          0.930895623067457,
          -0.3510915491067083,
          -0.7860596164675292,
          -0.3099833075538678,
          -1.692616752428592,
          -0.05034869520432244,
          0.210536708337432,
          2.643805373174239,
          -0.5182127768079674,
          2.0629726874749457,
          -0.06369473151853647,
          0.46709562474216393,
          1.746142356810882,
          0.2512886187696376,
          -0.8509244968096109,
          0.0893369123473014,
          0.2932688247488188,
          -1.45673776637694,
          0.19061047270939455,
          -0.46364028661326473,
          -2.648217490604569,
          -1.431645299855305,
          -0.2470534137577374,
          0.4572568809323332,
          -0.5728895727696305,
          1.0828767462948667,
          2.2143464123375414,
          -0.8642008755369356,
          -0.417530992233527,
          1.6655711918576357
         ]
        },
        {
         "boxpoints": false,
         "line": {
          "width": 1.3
         },
         "marker": {
          "color": "rgba(50, 171, 96, 1.0)"
         },
         "name": "C",
         "orientation": "v",
         "type": "box",
         "y": [
          -0.131598643218158,
          0.7460378215002961,
          -0.8706173618163066,
          1.533889668575501,
          0.4192301386742742,
          0.7738642014064692,
          -0.3844357055749694,
          1.8566352326735835,
          0.873592190729584,
          0.3147823279196298,
          0.20981444780719583,
          0.42503741899638703,
          -0.3580654051676349,
          -1.5162749248305907,
          0.21017391412498254,
          0.23350789554087673,
          1.1927031462329518,
          0.7709443264115204,
          -0.5683960551971603,
          -0.4363355392215332,
          0.8044904578706082,
          0.22366090687638143,
          1.1450749204883632,
          0.353728975430777,
          0.2739215299226128,
          -0.5759499496818182,
          0.4780087053591511,
          -0.13950106060755219,
          -0.3963258152079544,
          -0.35222299324767564,
          1.1282664788718435,
          -0.5144474204515538,
          -0.19495814521146262,
          -1.9944112228467465,
          -0.10621408132396935,
          0.6663959103940953,
          -0.5114258458573115,
          1.5677041398919056,
          -0.7378912422163683,
          0.43605416853987206,
          0.03924482396152938,
          0.36212478451135194,
          -0.4266752876613912,
          0.2763124178174565,
          -1.0327524435423858,
          -2.24494293456255,
          0.7102884661513491,
          0.8758631939199796,
          -0.7203410032980266,
          0.12626895207242758,
          0.4734905110085638,
          1.1284414711804636,
          1.2541834116540733,
          -1.034193057266019,
          0.46672138382303,
          0.9262487374069848,
          0.4786825346116632,
          0.33384910213966085,
          -0.20351715349238172,
          1.8689013006747124,
          2.2645358916258482,
          -0.8934322810855954,
          0.6255635511351999,
          1.6339024851129478,
          -0.1983229238081447,
          -1.8717738295795545,
          1.4742970510084095,
          -0.5894329312015728,
          0.27674597939972695,
          1.2231150626922218,
          -1.1827633316858575,
          -1.009027927688192,
          -0.15374199303912195,
          -1.306733674577343,
          1.475966103198281,
          -1.3480561330831538,
          -1.710941162368824,
          -1.060411232159617,
          -1.2096199181857086,
          -1.110841138635796,
          0.901272254950957,
          0.48389502529249057,
          -0.29819911806211946,
          1.1091003289743,
          -0.5829132931567804,
          2.3004394296237565,
          2.7906549343576317,
          -0.09979103685307157,
          0.23008445725910653,
          0.35965743670073996,
          -0.4805487978275915,
          0.18480768499979727,
          -0.037618658616160816,
          0.7183632139609818,
          -1.5923271349587682,
          0.19689090225953693,
          -1.9600146661642412,
          -1.1604247028413537,
          -0.09206339311139591,
          1.7262198561946767
         ]
        },
        {
         "boxpoints": false,
         "line": {
          "width": 1.3
         },
         "marker": {
          "color": "rgba(128, 0, 128, 1.0)"
         },
         "name": "D",
         "orientation": "v",
         "type": "box",
         "y": [
          0.39650680933079974,
          1.0434376709997564,
          -1.2031653612935167,
          0.4802174927588831,
          -1.6249460580267205,
          1.3559882958336933,
          0.426170973756528,
          1.5496766157804394,
          -0.2965804943384564,
          -0.9188728293057741,
          0.11487251513960715,
          0.36070660829579665,
          1.8684327409960586,
          1.4056067194590744,
          -0.822398349306429,
          -0.23511527294092202,
          -2.917381424894925,
          -0.3170135486714194,
          1.132236537078079,
          -1.3423341814712755,
          -0.2573907734112369,
          -0.3810498267757349,
          0.9165168869552655,
          -1.108583463580683,
          0.2548340705680408,
          0.3628613472198455,
          -0.7574069507672359,
          0.1578838153974856,
          -0.14162941083918185,
          0.46854187348620535,
          0.258639267869091,
          -0.8862603533925326,
          0.6592912629242242,
          -2.0569715009016485,
          1.5964724930899439,
          0.5682758058755667,
          0.44784996350682627,
          0.8449048695079657,
          -0.7425044541241442,
          0.3568992552003791,
          -1.723835311872046,
          1.2182269114563924,
          -0.2769608222103909,
          -0.0920713450696481,
          0.26248899206611714,
          0.31937136740251104,
          -2.006636527547466,
          -0.31873364608910787,
          0.6063332785709393,
          -0.6666568139253459,
          -1.5933240818889742,
          0.8151728923676614,
          1.3126697382331944,
          -0.39649270042715984,
          1.463408292663675,
          1.7395086259345356,
          1.7897480583194638,
          -1.998123034577033,
          -0.7421811376082633,
          -0.21868284713953204,
          -0.11848251052207832,
          -0.8228027929708848,
          0.11073250849110808,
          0.7744206708506479,
          0.057486510978580485,
          0.8395817077219525,
          1.1677836945019018,
          -0.32469819129508753,
          -0.8441257068116261,
          0.6328864635922817,
          0.16187705030351843,
          -0.525965408319869,
          0.35710860540675876,
          -1.7004448483525016,
          -1.7655347925201053,
          1.8815715283851087,
          -1.488157187929213,
          1.8184883637583684,
          1.3981622125537019,
          1.0709191055767984,
          1.4474488097563216,
          -0.6990999065819484,
          -0.9658669737523619,
          -1.1627437545168937,
          -0.5463054428306683,
          -0.20380805729580592,
          0.5934309766895289,
          -0.14551879693068898,
          -0.8401654038153072,
          -0.6243826888222211,
          0.9489904592521884,
          1.0855767219832255,
          -1.2968641098554545,
          0.8443358974418678,
          -0.7798182853111097,
          -0.9000691818931498,
          0.05500582023431861,
          2.2024541040000853,
          0.14133295139624955,
          0.5360130585857011
         ]
        }
       ],
       "layout": {
        "legend": {
         "bgcolor": "#F5F6F9",
         "font": {
          "color": "#4D5663"
         }
        },
        "paper_bgcolor": "#F5F6F9",
        "plot_bgcolor": "#F5F6F9",
        "template": {
         "data": {
          "bar": [
           {
            "error_x": {
             "color": "#2a3f5f"
            },
            "error_y": {
             "color": "#2a3f5f"
            },
            "marker": {
             "line": {
              "color": "#E5ECF6",
              "width": 0.5
             },
             "pattern": {
              "fillmode": "overlay",
              "size": 10,
              "solidity": 0.2
             }
            },
            "type": "bar"
           }
          ],
          "barpolar": [
           {
            "marker": {
             "line": {
              "color": "#E5ECF6",
              "width": 0.5
             },
             "pattern": {
              "fillmode": "overlay",
              "size": 10,
              "solidity": 0.2
             }
            },
            "type": "barpolar"
           }
          ],
          "carpet": [
           {
            "aaxis": {
             "endlinecolor": "#2a3f5f",
             "gridcolor": "white",
             "linecolor": "white",
             "minorgridcolor": "white",
             "startlinecolor": "#2a3f5f"
            },
            "baxis": {
             "endlinecolor": "#2a3f5f",
             "gridcolor": "white",
             "linecolor": "white",
             "minorgridcolor": "white",
             "startlinecolor": "#2a3f5f"
            },
            "type": "carpet"
           }
          ],
          "choropleth": [
           {
            "colorbar": {
             "outlinewidth": 0,
             "ticks": ""
            },
            "type": "choropleth"
           }
          ],
          "contour": [
           {
            "colorbar": {
             "outlinewidth": 0,
             "ticks": ""
            },
            "colorscale": [
             [
              0,
              "#0d0887"
             ],
             [
              0.1111111111111111,
              "#46039f"
             ],
             [
              0.2222222222222222,
              "#7201a8"
             ],
             [
              0.3333333333333333,
              "#9c179e"
             ],
             [
              0.4444444444444444,
              "#bd3786"
             ],
             [
              0.5555555555555556,
              "#d8576b"
             ],
             [
              0.6666666666666666,
              "#ed7953"
             ],
             [
              0.7777777777777778,
              "#fb9f3a"
             ],
             [
              0.8888888888888888,
              "#fdca26"
             ],
             [
              1,
              "#f0f921"
             ]
            ],
            "type": "contour"
           }
          ],
          "contourcarpet": [
           {
            "colorbar": {
             "outlinewidth": 0,
             "ticks": ""
            },
            "type": "contourcarpet"
           }
          ],
          "heatmap": [
           {
            "colorbar": {
             "outlinewidth": 0,
             "ticks": ""
            },
            "colorscale": [
             [
              0,
              "#0d0887"
             ],
             [
              0.1111111111111111,
              "#46039f"
             ],
             [
              0.2222222222222222,
              "#7201a8"
             ],
             [
              0.3333333333333333,
              "#9c179e"
             ],
             [
              0.4444444444444444,
              "#bd3786"
             ],
             [
              0.5555555555555556,
              "#d8576b"
             ],
             [
              0.6666666666666666,
              "#ed7953"
             ],
             [
              0.7777777777777778,
              "#fb9f3a"
             ],
             [
              0.8888888888888888,
              "#fdca26"
             ],
             [
              1,
              "#f0f921"
             ]
            ],
            "type": "heatmap"
           }
          ],
          "heatmapgl": [
           {
            "colorbar": {
             "outlinewidth": 0,
             "ticks": ""
            },
            "colorscale": [
             [
              0,
              "#0d0887"
             ],
             [
              0.1111111111111111,
              "#46039f"
             ],
             [
              0.2222222222222222,
              "#7201a8"
             ],
             [
              0.3333333333333333,
              "#9c179e"
             ],
             [
              0.4444444444444444,
              "#bd3786"
             ],
             [
              0.5555555555555556,
              "#d8576b"
             ],
             [
              0.6666666666666666,
              "#ed7953"
             ],
             [
              0.7777777777777778,
              "#fb9f3a"
             ],
             [
              0.8888888888888888,
              "#fdca26"
             ],
             [
              1,
              "#f0f921"
             ]
            ],
            "type": "heatmapgl"
           }
          ],
          "histogram": [
           {
            "marker": {
             "pattern": {
              "fillmode": "overlay",
              "size": 10,
              "solidity": 0.2
             }
            },
            "type": "histogram"
           }
          ],
          "histogram2d": [
           {
            "colorbar": {
             "outlinewidth": 0,
             "ticks": ""
            },
            "colorscale": [
             [
              0,
              "#0d0887"
             ],
             [
              0.1111111111111111,
              "#46039f"
             ],
             [
              0.2222222222222222,
              "#7201a8"
             ],
             [
              0.3333333333333333,
              "#9c179e"
             ],
             [
              0.4444444444444444,
              "#bd3786"
             ],
             [
              0.5555555555555556,
              "#d8576b"
             ],
             [
              0.6666666666666666,
              "#ed7953"
             ],
             [
              0.7777777777777778,
              "#fb9f3a"
             ],
             [
              0.8888888888888888,
              "#fdca26"
             ],
             [
              1,
              "#f0f921"
             ]
            ],
            "type": "histogram2d"
           }
          ],
          "histogram2dcontour": [
           {
            "colorbar": {
             "outlinewidth": 0,
             "ticks": ""
            },
            "colorscale": [
             [
              0,
              "#0d0887"
             ],
             [
              0.1111111111111111,
              "#46039f"
             ],
             [
              0.2222222222222222,
              "#7201a8"
             ],
             [
              0.3333333333333333,
              "#9c179e"
             ],
             [
              0.4444444444444444,
              "#bd3786"
             ],
             [
              0.5555555555555556,
              "#d8576b"
             ],
             [
              0.6666666666666666,
              "#ed7953"
             ],
             [
              0.7777777777777778,
              "#fb9f3a"
             ],
             [
              0.8888888888888888,
              "#fdca26"
             ],
             [
              1,
              "#f0f921"
             ]
            ],
            "type": "histogram2dcontour"
           }
          ],
          "mesh3d": [
           {
            "colorbar": {
             "outlinewidth": 0,
             "ticks": ""
            },
            "type": "mesh3d"
           }
          ],
          "parcoords": [
           {
            "line": {
             "colorbar": {
              "outlinewidth": 0,
              "ticks": ""
             }
            },
            "type": "parcoords"
           }
          ],
          "pie": [
           {
            "automargin": true,
            "type": "pie"
           }
          ],
          "scatter": [
           {
            "marker": {
             "colorbar": {
              "outlinewidth": 0,
              "ticks": ""
             }
            },
            "type": "scatter"
           }
          ],
          "scatter3d": [
           {
            "line": {
             "colorbar": {
              "outlinewidth": 0,
              "ticks": ""
             }
            },
            "marker": {
             "colorbar": {
              "outlinewidth": 0,
              "ticks": ""
             }
            },
            "type": "scatter3d"
           }
          ],
          "scattercarpet": [
           {
            "marker": {
             "colorbar": {
              "outlinewidth": 0,
              "ticks": ""
             }
            },
            "type": "scattercarpet"
           }
          ],
          "scattergeo": [
           {
            "marker": {
             "colorbar": {
              "outlinewidth": 0,
              "ticks": ""
             }
            },
            "type": "scattergeo"
           }
          ],
          "scattergl": [
           {
            "marker": {
             "colorbar": {
              "outlinewidth": 0,
              "ticks": ""
             }
            },
            "type": "scattergl"
           }
          ],
          "scattermapbox": [
           {
            "marker": {
             "colorbar": {
              "outlinewidth": 0,
              "ticks": ""
             }
            },
            "type": "scattermapbox"
           }
          ],
          "scatterpolar": [
           {
            "marker": {
             "colorbar": {
              "outlinewidth": 0,
              "ticks": ""
             }
            },
            "type": "scatterpolar"
           }
          ],
          "scatterpolargl": [
           {
            "marker": {
             "colorbar": {
              "outlinewidth": 0,
              "ticks": ""
             }
            },
            "type": "scatterpolargl"
           }
          ],
          "scatterternary": [
           {
            "marker": {
             "colorbar": {
              "outlinewidth": 0,
              "ticks": ""
             }
            },
            "type": "scatterternary"
           }
          ],
          "surface": [
           {
            "colorbar": {
             "outlinewidth": 0,
             "ticks": ""
            },
            "colorscale": [
             [
              0,
              "#0d0887"
             ],
             [
              0.1111111111111111,
              "#46039f"
             ],
             [
              0.2222222222222222,
              "#7201a8"
             ],
             [
              0.3333333333333333,
              "#9c179e"
             ],
             [
              0.4444444444444444,
              "#bd3786"
             ],
             [
              0.5555555555555556,
              "#d8576b"
             ],
             [
              0.6666666666666666,
              "#ed7953"
             ],
             [
              0.7777777777777778,
              "#fb9f3a"
             ],
             [
              0.8888888888888888,
              "#fdca26"
             ],
             [
              1,
              "#f0f921"
             ]
            ],
            "type": "surface"
           }
          ],
          "table": [
           {
            "cells": {
             "fill": {
              "color": "#EBF0F8"
             },
             "line": {
              "color": "white"
             }
            },
            "header": {
             "fill": {
              "color": "#C8D4E3"
             },
             "line": {
              "color": "white"
             }
            },
            "type": "table"
           }
          ]
         },
         "layout": {
          "annotationdefaults": {
           "arrowcolor": "#2a3f5f",
           "arrowhead": 0,
           "arrowwidth": 1
          },
          "autotypenumbers": "strict",
          "coloraxis": {
           "colorbar": {
            "outlinewidth": 0,
            "ticks": ""
           }
          },
          "colorscale": {
           "diverging": [
            [
             0,
             "#8e0152"
            ],
            [
             0.1,
             "#c51b7d"
            ],
            [
             0.2,
             "#de77ae"
            ],
            [
             0.3,
             "#f1b6da"
            ],
            [
             0.4,
             "#fde0ef"
            ],
            [
             0.5,
             "#f7f7f7"
            ],
            [
             0.6,
             "#e6f5d0"
            ],
            [
             0.7,
             "#b8e186"
            ],
            [
             0.8,
             "#7fbc41"
            ],
            [
             0.9,
             "#4d9221"
            ],
            [
             1,
             "#276419"
            ]
           ],
           "sequential": [
            [
             0,
             "#0d0887"
            ],
            [
             0.1111111111111111,
             "#46039f"
            ],
            [
             0.2222222222222222,
             "#7201a8"
            ],
            [
             0.3333333333333333,
             "#9c179e"
            ],
            [
             0.4444444444444444,
             "#bd3786"
            ],
            [
             0.5555555555555556,
             "#d8576b"
            ],
            [
             0.6666666666666666,
             "#ed7953"
            ],
            [
             0.7777777777777778,
             "#fb9f3a"
            ],
            [
             0.8888888888888888,
             "#fdca26"
            ],
            [
             1,
             "#f0f921"
            ]
           ],
           "sequentialminus": [
            [
             0,
             "#0d0887"
            ],
            [
             0.1111111111111111,
             "#46039f"
            ],
            [
             0.2222222222222222,
             "#7201a8"
            ],
            [
             0.3333333333333333,
             "#9c179e"
            ],
            [
             0.4444444444444444,
             "#bd3786"
            ],
            [
             0.5555555555555556,
             "#d8576b"
            ],
            [
             0.6666666666666666,
             "#ed7953"
            ],
            [
             0.7777777777777778,
             "#fb9f3a"
            ],
            [
             0.8888888888888888,
             "#fdca26"
            ],
            [
             1,
             "#f0f921"
            ]
           ]
          },
          "colorway": [
           "#636efa",
           "#EF553B",
           "#00cc96",
           "#ab63fa",
           "#FFA15A",
           "#19d3f3",
           "#FF6692",
           "#B6E880",
           "#FF97FF",
           "#FECB52"
          ],
          "font": {
           "color": "#2a3f5f"
          },
          "geo": {
           "bgcolor": "white",
           "lakecolor": "white",
           "landcolor": "#E5ECF6",
           "showlakes": true,
           "showland": true,
           "subunitcolor": "white"
          },
          "hoverlabel": {
           "align": "left"
          },
          "hovermode": "closest",
          "mapbox": {
           "style": "light"
          },
          "paper_bgcolor": "white",
          "plot_bgcolor": "#E5ECF6",
          "polar": {
           "angularaxis": {
            "gridcolor": "white",
            "linecolor": "white",
            "ticks": ""
           },
           "bgcolor": "#E5ECF6",
           "radialaxis": {
            "gridcolor": "white",
            "linecolor": "white",
            "ticks": ""
           }
          },
          "scene": {
           "xaxis": {
            "backgroundcolor": "#E5ECF6",
            "gridcolor": "white",
            "gridwidth": 2,
            "linecolor": "white",
            "showbackground": true,
            "ticks": "",
            "zerolinecolor": "white"
           },
           "yaxis": {
            "backgroundcolor": "#E5ECF6",
            "gridcolor": "white",
            "gridwidth": 2,
            "linecolor": "white",
            "showbackground": true,
            "ticks": "",
            "zerolinecolor": "white"
           },
           "zaxis": {
            "backgroundcolor": "#E5ECF6",
            "gridcolor": "white",
            "gridwidth": 2,
            "linecolor": "white",
            "showbackground": true,
            "ticks": "",
            "zerolinecolor": "white"
           }
          },
          "shapedefaults": {
           "line": {
            "color": "#2a3f5f"
           }
          },
          "ternary": {
           "aaxis": {
            "gridcolor": "white",
            "linecolor": "white",
            "ticks": ""
           },
           "baxis": {
            "gridcolor": "white",
            "linecolor": "white",
            "ticks": ""
           },
           "bgcolor": "#E5ECF6",
           "caxis": {
            "gridcolor": "white",
            "linecolor": "white",
            "ticks": ""
           }
          },
          "title": {
           "x": 0.05
          },
          "xaxis": {
           "automargin": true,
           "gridcolor": "white",
           "linecolor": "white",
           "ticks": "",
           "title": {
            "standoff": 15
           },
           "zerolinecolor": "white",
           "zerolinewidth": 2
          },
          "yaxis": {
           "automargin": true,
           "gridcolor": "white",
           "linecolor": "white",
           "ticks": "",
           "title": {
            "standoff": 15
           },
           "zerolinecolor": "white",
           "zerolinewidth": 2
          }
         }
        },
        "title": {
         "font": {
          "color": "#4D5663"
         }
        },
        "xaxis": {
         "gridcolor": "#E1E5ED",
         "showgrid": true,
         "tickfont": {
          "color": "#4D5663"
         },
         "title": {
          "font": {
           "color": "#4D5663"
          },
          "text": ""
         },
         "zerolinecolor": "#E1E5ED"
        },
        "yaxis": {
         "gridcolor": "#E1E5ED",
         "showgrid": true,
         "tickfont": {
          "color": "#4D5663"
         },
         "title": {
          "font": {
           "color": "#4D5663"
          },
          "text": ""
         },
         "zerolinecolor": "#E1E5ED"
        }
       }
      },
      "text/html": [
       "<div>                            <div id=\"9bfcf570-e1e5-4e02-bb00-7c7fa767fba8\" class=\"plotly-graph-div\" style=\"height:525px; width:100%;\"></div>            <script type=\"text/javascript\">                require([\"plotly\"], function(Plotly) {                    window.PLOTLYENV=window.PLOTLYENV || {};\n",
       "                    window.PLOTLYENV.BASE_URL='https://plot.ly';                                    if (document.getElementById(\"9bfcf570-e1e5-4e02-bb00-7c7fa767fba8\")) {                    Plotly.newPlot(                        \"9bfcf570-e1e5-4e02-bb00-7c7fa767fba8\",                        [{\"boxpoints\":false,\"line\":{\"width\":1.3},\"marker\":{\"color\":\"rgba(255, 153, 51, 1.0)\"},\"name\":\"A\",\"orientation\":\"v\",\"y\":[-0.6893052561281315,-2.845872895424155,-0.9163681540821186,-0.2664103050414935,-0.9235275300876713,-1.0743051805052293,0.42687057478479057,1.1104792185401007,1.3646245694173584,-1.0238813388939503,1.895672769630182,1.0530753934758494,-0.046426311070615886,-0.33532787020544197,-0.5610494954001191,0.4318029474527573,0.25013109387394583,-1.146883582028132,0.4389058211914608,-1.137274523144371,1.1198268456530702,-0.8393566020124413,-0.16026252766799162,0.26122752466044236,1.004197450057196,0.35482904027472867,-0.6633958434655471,-1.1178581109424788,-2.05045943459775,-1.106147952065965,2.0960168353671507,0.07996763015948939,1.249610257685694,-0.08383444351696834,-0.14654391010572232,1.2648378226492598,-0.8266205324648777,1.989515576501666,-0.14588573288560383,-1.0616448138932837,0.07530234213858279,-0.4585366751511372,-0.9863013689134388,-0.021590579477356795,0.9889781526023628,-0.31640898478004204,-2.14677259470346,-1.957939648520007,0.05985766257029674,-0.36195689974885314,-0.236849555374275,-0.6077790409574457,1.2717831966333175,-0.2933190205356634,0.15435366978993742,-0.31904289677839653,-0.5875206701342491,0.9277886633174944,-0.855244316297103,-1.1703800688596033,-0.6961828141988337,-1.1897385744172395,0.7397797936004792,0.8906004551180754,1.2109951331092086,-0.38306990564306115,-0.1072388736304232,-0.4873164679316189,0.39821140555916523,-0.47945645115453034,0.523213054801759,0.12858269932775052,-1.7937689072840768,-0.940903415002036,-1.6570933374270327,1.2889827959639117,0.3614304439210471,0.20072060298305572,0.25331315375117697,1.0075480851304834,-1.771958662022935,0.9186582817477968,0.923208636586071,0.6906067861667525,1.2658331068004345,2.2248120210985447,1.229746154387575,-0.7711057840886162,-0.22892698345141266,0.4968263634785601,0.6922494070007152,0.40410117195772943,0.08621218244987461,-0.5210201116295988,-0.20269814327364616,-1.4983723050762452,0.1362860088662079,-1.530348026997477,0.8262943993604871,0.33767414186580647],\"type\":\"box\"},{\"boxpoints\":false,\"line\":{\"width\":1.3},\"marker\":{\"color\":\"rgba(55, 128, 191, 1.0)\"},\"name\":\"B\",\"orientation\":\"v\",\"y\":[-0.24979007921567917,-1.779768029097925,-0.6062144998486573,0.9779945488799582,0.3757230557902862,0.985161614399938,-0.6028042876140303,1.3883690703699636,-0.6145478354846858,-0.7385511297603041,-0.9127357649899023,0.9154197803986137,1.015141277598315,1.1055303857924383,-1.0656279020482946,0.9313128466249291,0.10121943482974187,0.06373945802347386,0.4364059064604701,0.5366977030019245,-0.23864333794856174,1.4498166840379065,-0.3431217595850986,0.06788794571715241,-0.5740311702124425,-0.3898350415202136,-1.7119745025704762,-0.3011023922329312,-1.4718273111859725,0.5126222640844335,-0.22257416696949736,-0.6314005321790371,1.7557240793305708,0.40685107040716606,-1.1504081674568416,-0.07433040391832275,-2.085449338396298,0.3278531873923647,0.5188669463239621,0.11547818460421502,0.6601924554364436,-0.20137214502169068,-1.2545913726498819,0.8716252349085465,-0.8664251177538538,2.084267516409973,0.12399374215075959,0.870143675935871,1.7709576444833397,2.7962380471649797,0.40374287223409155,-0.525883416684735,0.17417025125171276,-0.8107106339984463,-0.4802973836291754,-1.6228851254206935,-1.07337409895552,0.2580412296513383,0.516644824870803,0.2443520219395664,1.2814411679419644,-0.5914303998986155,0.783287456660842,0.8991699985054249,2.2627968755534607,-0.19970541772160366,-0.8457559168628592,-0.9491095889306285,-0.7870768730340548,0.9554556570912205,0.930895623067457,-0.3510915491067083,-0.7860596164675292,-0.3099833075538678,-1.692616752428592,-0.05034869520432244,0.210536708337432,2.643805373174239,-0.5182127768079674,2.0629726874749457,-0.06369473151853647,0.46709562474216393,1.746142356810882,0.2512886187696376,-0.8509244968096109,0.0893369123473014,0.2932688247488188,-1.45673776637694,0.19061047270939455,-0.46364028661326473,-2.648217490604569,-1.431645299855305,-0.2470534137577374,0.4572568809323332,-0.5728895727696305,1.0828767462948667,2.2143464123375414,-0.8642008755369356,-0.417530992233527,1.6655711918576357],\"type\":\"box\"},{\"boxpoints\":false,\"line\":{\"width\":1.3},\"marker\":{\"color\":\"rgba(50, 171, 96, 1.0)\"},\"name\":\"C\",\"orientation\":\"v\",\"y\":[-0.131598643218158,0.7460378215002961,-0.8706173618163066,1.533889668575501,0.4192301386742742,0.7738642014064692,-0.3844357055749694,1.8566352326735835,0.873592190729584,0.3147823279196298,0.20981444780719583,0.42503741899638703,-0.3580654051676349,-1.5162749248305907,0.21017391412498254,0.23350789554087673,1.1927031462329518,0.7709443264115204,-0.5683960551971603,-0.4363355392215332,0.8044904578706082,0.22366090687638143,1.1450749204883632,0.353728975430777,0.2739215299226128,-0.5759499496818182,0.4780087053591511,-0.13950106060755219,-0.3963258152079544,-0.35222299324767564,1.1282664788718435,-0.5144474204515538,-0.19495814521146262,-1.9944112228467465,-0.10621408132396935,0.6663959103940953,-0.5114258458573115,1.5677041398919056,-0.7378912422163683,0.43605416853987206,0.03924482396152938,0.36212478451135194,-0.4266752876613912,0.2763124178174565,-1.0327524435423858,-2.24494293456255,0.7102884661513491,0.8758631939199796,-0.7203410032980266,0.12626895207242758,0.4734905110085638,1.1284414711804636,1.2541834116540733,-1.034193057266019,0.46672138382303,0.9262487374069848,0.4786825346116632,0.33384910213966085,-0.20351715349238172,1.8689013006747124,2.2645358916258482,-0.8934322810855954,0.6255635511351999,1.6339024851129478,-0.1983229238081447,-1.8717738295795545,1.4742970510084095,-0.5894329312015728,0.27674597939972695,1.2231150626922218,-1.1827633316858575,-1.009027927688192,-0.15374199303912195,-1.306733674577343,1.475966103198281,-1.3480561330831538,-1.710941162368824,-1.060411232159617,-1.2096199181857086,-1.110841138635796,0.901272254950957,0.48389502529249057,-0.29819911806211946,1.1091003289743,-0.5829132931567804,2.3004394296237565,2.7906549343576317,-0.09979103685307157,0.23008445725910653,0.35965743670073996,-0.4805487978275915,0.18480768499979727,-0.037618658616160816,0.7183632139609818,-1.5923271349587682,0.19689090225953693,-1.9600146661642412,-1.1604247028413537,-0.09206339311139591,1.7262198561946767],\"type\":\"box\"},{\"boxpoints\":false,\"line\":{\"width\":1.3},\"marker\":{\"color\":\"rgba(128, 0, 128, 1.0)\"},\"name\":\"D\",\"orientation\":\"v\",\"y\":[0.39650680933079974,1.0434376709997564,-1.2031653612935167,0.4802174927588831,-1.6249460580267205,1.3559882958336933,0.426170973756528,1.5496766157804394,-0.2965804943384564,-0.9188728293057741,0.11487251513960715,0.36070660829579665,1.8684327409960586,1.4056067194590744,-0.822398349306429,-0.23511527294092202,-2.917381424894925,-0.3170135486714194,1.132236537078079,-1.3423341814712755,-0.2573907734112369,-0.3810498267757349,0.9165168869552655,-1.108583463580683,0.2548340705680408,0.3628613472198455,-0.7574069507672359,0.1578838153974856,-0.14162941083918185,0.46854187348620535,0.258639267869091,-0.8862603533925326,0.6592912629242242,-2.0569715009016485,1.5964724930899439,0.5682758058755667,0.44784996350682627,0.8449048695079657,-0.7425044541241442,0.3568992552003791,-1.723835311872046,1.2182269114563924,-0.2769608222103909,-0.0920713450696481,0.26248899206611714,0.31937136740251104,-2.006636527547466,-0.31873364608910787,0.6063332785709393,-0.6666568139253459,-1.5933240818889742,0.8151728923676614,1.3126697382331944,-0.39649270042715984,1.463408292663675,1.7395086259345356,1.7897480583194638,-1.998123034577033,-0.7421811376082633,-0.21868284713953204,-0.11848251052207832,-0.8228027929708848,0.11073250849110808,0.7744206708506479,0.057486510978580485,0.8395817077219525,1.1677836945019018,-0.32469819129508753,-0.8441257068116261,0.6328864635922817,0.16187705030351843,-0.525965408319869,0.35710860540675876,-1.7004448483525016,-1.7655347925201053,1.8815715283851087,-1.488157187929213,1.8184883637583684,1.3981622125537019,1.0709191055767984,1.4474488097563216,-0.6990999065819484,-0.9658669737523619,-1.1627437545168937,-0.5463054428306683,-0.20380805729580592,0.5934309766895289,-0.14551879693068898,-0.8401654038153072,-0.6243826888222211,0.9489904592521884,1.0855767219832255,-1.2968641098554545,0.8443358974418678,-0.7798182853111097,-0.9000691818931498,0.05500582023431861,2.2024541040000853,0.14133295139624955,0.5360130585857011],\"type\":\"box\"}],                        {\"legend\":{\"bgcolor\":\"#F5F6F9\",\"font\":{\"color\":\"#4D5663\"}},\"paper_bgcolor\":\"#F5F6F9\",\"plot_bgcolor\":\"#F5F6F9\",\"template\":{\"data\":{\"barpolar\":[{\"marker\":{\"line\":{\"color\":\"#E5ECF6\",\"width\":0.5},\"pattern\":{\"fillmode\":\"overlay\",\"size\":10,\"solidity\":0.2}},\"type\":\"barpolar\"}],\"bar\":[{\"error_x\":{\"color\":\"#2a3f5f\"},\"error_y\":{\"color\":\"#2a3f5f\"},\"marker\":{\"line\":{\"color\":\"#E5ECF6\",\"width\":0.5},\"pattern\":{\"fillmode\":\"overlay\",\"size\":10,\"solidity\":0.2}},\"type\":\"bar\"}],\"carpet\":[{\"aaxis\":{\"endlinecolor\":\"#2a3f5f\",\"gridcolor\":\"white\",\"linecolor\":\"white\",\"minorgridcolor\":\"white\",\"startlinecolor\":\"#2a3f5f\"},\"baxis\":{\"endlinecolor\":\"#2a3f5f\",\"gridcolor\":\"white\",\"linecolor\":\"white\",\"minorgridcolor\":\"white\",\"startlinecolor\":\"#2a3f5f\"},\"type\":\"carpet\"}],\"choropleth\":[{\"colorbar\":{\"outlinewidth\":0,\"ticks\":\"\"},\"type\":\"choropleth\"}],\"contourcarpet\":[{\"colorbar\":{\"outlinewidth\":0,\"ticks\":\"\"},\"type\":\"contourcarpet\"}],\"contour\":[{\"colorbar\":{\"outlinewidth\":0,\"ticks\":\"\"},\"colorscale\":[[0.0,\"#0d0887\"],[0.1111111111111111,\"#46039f\"],[0.2222222222222222,\"#7201a8\"],[0.3333333333333333,\"#9c179e\"],[0.4444444444444444,\"#bd3786\"],[0.5555555555555556,\"#d8576b\"],[0.6666666666666666,\"#ed7953\"],[0.7777777777777778,\"#fb9f3a\"],[0.8888888888888888,\"#fdca26\"],[1.0,\"#f0f921\"]],\"type\":\"contour\"}],\"heatmapgl\":[{\"colorbar\":{\"outlinewidth\":0,\"ticks\":\"\"},\"colorscale\":[[0.0,\"#0d0887\"],[0.1111111111111111,\"#46039f\"],[0.2222222222222222,\"#7201a8\"],[0.3333333333333333,\"#9c179e\"],[0.4444444444444444,\"#bd3786\"],[0.5555555555555556,\"#d8576b\"],[0.6666666666666666,\"#ed7953\"],[0.7777777777777778,\"#fb9f3a\"],[0.8888888888888888,\"#fdca26\"],[1.0,\"#f0f921\"]],\"type\":\"heatmapgl\"}],\"heatmap\":[{\"colorbar\":{\"outlinewidth\":0,\"ticks\":\"\"},\"colorscale\":[[0.0,\"#0d0887\"],[0.1111111111111111,\"#46039f\"],[0.2222222222222222,\"#7201a8\"],[0.3333333333333333,\"#9c179e\"],[0.4444444444444444,\"#bd3786\"],[0.5555555555555556,\"#d8576b\"],[0.6666666666666666,\"#ed7953\"],[0.7777777777777778,\"#fb9f3a\"],[0.8888888888888888,\"#fdca26\"],[1.0,\"#f0f921\"]],\"type\":\"heatmap\"}],\"histogram2dcontour\":[{\"colorbar\":{\"outlinewidth\":0,\"ticks\":\"\"},\"colorscale\":[[0.0,\"#0d0887\"],[0.1111111111111111,\"#46039f\"],[0.2222222222222222,\"#7201a8\"],[0.3333333333333333,\"#9c179e\"],[0.4444444444444444,\"#bd3786\"],[0.5555555555555556,\"#d8576b\"],[0.6666666666666666,\"#ed7953\"],[0.7777777777777778,\"#fb9f3a\"],[0.8888888888888888,\"#fdca26\"],[1.0,\"#f0f921\"]],\"type\":\"histogram2dcontour\"}],\"histogram2d\":[{\"colorbar\":{\"outlinewidth\":0,\"ticks\":\"\"},\"colorscale\":[[0.0,\"#0d0887\"],[0.1111111111111111,\"#46039f\"],[0.2222222222222222,\"#7201a8\"],[0.3333333333333333,\"#9c179e\"],[0.4444444444444444,\"#bd3786\"],[0.5555555555555556,\"#d8576b\"],[0.6666666666666666,\"#ed7953\"],[0.7777777777777778,\"#fb9f3a\"],[0.8888888888888888,\"#fdca26\"],[1.0,\"#f0f921\"]],\"type\":\"histogram2d\"}],\"histogram\":[{\"marker\":{\"pattern\":{\"fillmode\":\"overlay\",\"size\":10,\"solidity\":0.2}},\"type\":\"histogram\"}],\"mesh3d\":[{\"colorbar\":{\"outlinewidth\":0,\"ticks\":\"\"},\"type\":\"mesh3d\"}],\"parcoords\":[{\"line\":{\"colorbar\":{\"outlinewidth\":0,\"ticks\":\"\"}},\"type\":\"parcoords\"}],\"pie\":[{\"automargin\":true,\"type\":\"pie\"}],\"scatter3d\":[{\"line\":{\"colorbar\":{\"outlinewidth\":0,\"ticks\":\"\"}},\"marker\":{\"colorbar\":{\"outlinewidth\":0,\"ticks\":\"\"}},\"type\":\"scatter3d\"}],\"scattercarpet\":[{\"marker\":{\"colorbar\":{\"outlinewidth\":0,\"ticks\":\"\"}},\"type\":\"scattercarpet\"}],\"scattergeo\":[{\"marker\":{\"colorbar\":{\"outlinewidth\":0,\"ticks\":\"\"}},\"type\":\"scattergeo\"}],\"scattergl\":[{\"marker\":{\"colorbar\":{\"outlinewidth\":0,\"ticks\":\"\"}},\"type\":\"scattergl\"}],\"scattermapbox\":[{\"marker\":{\"colorbar\":{\"outlinewidth\":0,\"ticks\":\"\"}},\"type\":\"scattermapbox\"}],\"scatterpolargl\":[{\"marker\":{\"colorbar\":{\"outlinewidth\":0,\"ticks\":\"\"}},\"type\":\"scatterpolargl\"}],\"scatterpolar\":[{\"marker\":{\"colorbar\":{\"outlinewidth\":0,\"ticks\":\"\"}},\"type\":\"scatterpolar\"}],\"scatter\":[{\"marker\":{\"colorbar\":{\"outlinewidth\":0,\"ticks\":\"\"}},\"type\":\"scatter\"}],\"scatterternary\":[{\"marker\":{\"colorbar\":{\"outlinewidth\":0,\"ticks\":\"\"}},\"type\":\"scatterternary\"}],\"surface\":[{\"colorbar\":{\"outlinewidth\":0,\"ticks\":\"\"},\"colorscale\":[[0.0,\"#0d0887\"],[0.1111111111111111,\"#46039f\"],[0.2222222222222222,\"#7201a8\"],[0.3333333333333333,\"#9c179e\"],[0.4444444444444444,\"#bd3786\"],[0.5555555555555556,\"#d8576b\"],[0.6666666666666666,\"#ed7953\"],[0.7777777777777778,\"#fb9f3a\"],[0.8888888888888888,\"#fdca26\"],[1.0,\"#f0f921\"]],\"type\":\"surface\"}],\"table\":[{\"cells\":{\"fill\":{\"color\":\"#EBF0F8\"},\"line\":{\"color\":\"white\"}},\"header\":{\"fill\":{\"color\":\"#C8D4E3\"},\"line\":{\"color\":\"white\"}},\"type\":\"table\"}]},\"layout\":{\"annotationdefaults\":{\"arrowcolor\":\"#2a3f5f\",\"arrowhead\":0,\"arrowwidth\":1},\"autotypenumbers\":\"strict\",\"coloraxis\":{\"colorbar\":{\"outlinewidth\":0,\"ticks\":\"\"}},\"colorscale\":{\"diverging\":[[0,\"#8e0152\"],[0.1,\"#c51b7d\"],[0.2,\"#de77ae\"],[0.3,\"#f1b6da\"],[0.4,\"#fde0ef\"],[0.5,\"#f7f7f7\"],[0.6,\"#e6f5d0\"],[0.7,\"#b8e186\"],[0.8,\"#7fbc41\"],[0.9,\"#4d9221\"],[1,\"#276419\"]],\"sequential\":[[0.0,\"#0d0887\"],[0.1111111111111111,\"#46039f\"],[0.2222222222222222,\"#7201a8\"],[0.3333333333333333,\"#9c179e\"],[0.4444444444444444,\"#bd3786\"],[0.5555555555555556,\"#d8576b\"],[0.6666666666666666,\"#ed7953\"],[0.7777777777777778,\"#fb9f3a\"],[0.8888888888888888,\"#fdca26\"],[1.0,\"#f0f921\"]],\"sequentialminus\":[[0.0,\"#0d0887\"],[0.1111111111111111,\"#46039f\"],[0.2222222222222222,\"#7201a8\"],[0.3333333333333333,\"#9c179e\"],[0.4444444444444444,\"#bd3786\"],[0.5555555555555556,\"#d8576b\"],[0.6666666666666666,\"#ed7953\"],[0.7777777777777778,\"#fb9f3a\"],[0.8888888888888888,\"#fdca26\"],[1.0,\"#f0f921\"]]},\"colorway\":[\"#636efa\",\"#EF553B\",\"#00cc96\",\"#ab63fa\",\"#FFA15A\",\"#19d3f3\",\"#FF6692\",\"#B6E880\",\"#FF97FF\",\"#FECB52\"],\"font\":{\"color\":\"#2a3f5f\"},\"geo\":{\"bgcolor\":\"white\",\"lakecolor\":\"white\",\"landcolor\":\"#E5ECF6\",\"showlakes\":true,\"showland\":true,\"subunitcolor\":\"white\"},\"hoverlabel\":{\"align\":\"left\"},\"hovermode\":\"closest\",\"mapbox\":{\"style\":\"light\"},\"paper_bgcolor\":\"white\",\"plot_bgcolor\":\"#E5ECF6\",\"polar\":{\"angularaxis\":{\"gridcolor\":\"white\",\"linecolor\":\"white\",\"ticks\":\"\"},\"bgcolor\":\"#E5ECF6\",\"radialaxis\":{\"gridcolor\":\"white\",\"linecolor\":\"white\",\"ticks\":\"\"}},\"scene\":{\"xaxis\":{\"backgroundcolor\":\"#E5ECF6\",\"gridcolor\":\"white\",\"gridwidth\":2,\"linecolor\":\"white\",\"showbackground\":true,\"ticks\":\"\",\"zerolinecolor\":\"white\"},\"yaxis\":{\"backgroundcolor\":\"#E5ECF6\",\"gridcolor\":\"white\",\"gridwidth\":2,\"linecolor\":\"white\",\"showbackground\":true,\"ticks\":\"\",\"zerolinecolor\":\"white\"},\"zaxis\":{\"backgroundcolor\":\"#E5ECF6\",\"gridcolor\":\"white\",\"gridwidth\":2,\"linecolor\":\"white\",\"showbackground\":true,\"ticks\":\"\",\"zerolinecolor\":\"white\"}},\"shapedefaults\":{\"line\":{\"color\":\"#2a3f5f\"}},\"ternary\":{\"aaxis\":{\"gridcolor\":\"white\",\"linecolor\":\"white\",\"ticks\":\"\"},\"baxis\":{\"gridcolor\":\"white\",\"linecolor\":\"white\",\"ticks\":\"\"},\"bgcolor\":\"#E5ECF6\",\"caxis\":{\"gridcolor\":\"white\",\"linecolor\":\"white\",\"ticks\":\"\"}},\"title\":{\"x\":0.05},\"xaxis\":{\"automargin\":true,\"gridcolor\":\"white\",\"linecolor\":\"white\",\"ticks\":\"\",\"title\":{\"standoff\":15},\"zerolinecolor\":\"white\",\"zerolinewidth\":2},\"yaxis\":{\"automargin\":true,\"gridcolor\":\"white\",\"linecolor\":\"white\",\"ticks\":\"\",\"title\":{\"standoff\":15},\"zerolinecolor\":\"white\",\"zerolinewidth\":2}}},\"title\":{\"font\":{\"color\":\"#4D5663\"}},\"xaxis\":{\"gridcolor\":\"#E1E5ED\",\"showgrid\":true,\"tickfont\":{\"color\":\"#4D5663\"},\"title\":{\"font\":{\"color\":\"#4D5663\"},\"text\":\"\"},\"zerolinecolor\":\"#E1E5ED\"},\"yaxis\":{\"gridcolor\":\"#E1E5ED\",\"showgrid\":true,\"tickfont\":{\"color\":\"#4D5663\"},\"title\":{\"font\":{\"color\":\"#4D5663\"},\"text\":\"\"},\"zerolinecolor\":\"#E1E5ED\"}},                        {\"showLink\": true, \"linkText\": \"Export to plot.ly\", \"plotlyServerURL\": \"https://plot.ly\", \"responsive\": true}                    ).then(function(){\n",
       "                            \n",
       "var gd = document.getElementById('9bfcf570-e1e5-4e02-bb00-7c7fa767fba8');\n",
       "var x = new MutationObserver(function (mutations, observer) {{\n",
       "        var display = window.getComputedStyle(gd).display;\n",
       "        if (!display || display === 'none') {{\n",
       "            console.log([gd, 'removed!']);\n",
       "            Plotly.purge(gd);\n",
       "            observer.disconnect();\n",
       "        }}\n",
       "}});\n",
       "\n",
       "// Listen for the removal of the full notebook cells\n",
       "var notebookContainer = gd.closest('#notebook-container');\n",
       "if (notebookContainer) {{\n",
       "    x.observe(notebookContainer, {childList: true});\n",
       "}}\n",
       "\n",
       "// Listen for the clearing of the current output cell\n",
       "var outputEl = gd.closest('.output');\n",
       "if (outputEl) {{\n",
       "    x.observe(outputEl, {childList: true});\n",
       "}}\n",
       "\n",
       "                        })                };                });            </script>        </div>"
      ]
     },
     "metadata": {},
     "output_type": "display_data"
    }
   ],
   "source": [
    "data.iplot(kind=\"box\")"
   ]
  }
 ],
 "metadata": {
  "kernelspec": {
   "display_name": "Python 3",
   "language": "python",
   "name": "python3"
  },
  "language_info": {
   "codemirror_mode": {
    "name": "ipython",
    "version": 3
   },
   "file_extension": ".py",
   "mimetype": "text/x-python",
   "name": "python",
   "nbconvert_exporter": "python",
   "pygments_lexer": "ipython3",
   "version": "3.8.8"
  }
 },
 "nbformat": 4,
 "nbformat_minor": 1
}
